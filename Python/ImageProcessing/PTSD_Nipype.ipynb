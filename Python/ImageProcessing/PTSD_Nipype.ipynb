{
 "metadata": {
  "name": "",
  "signature": "sha256:9a9af76a049f36fd07d8810150b95ecf076d1435679249c83279b9595eefc24d"
 },
 "nbformat": 3,
 "nbformat_minor": 0,
 "worksheets": [
  {
   "cells": [
    {
     "cell_type": "markdown",
     "metadata": {},
     "source": [
      "<h1>Canlab Automated Preprocessing with Nipype</h1>\n",
      "<p><em>Written by Luke Chang 9/24/2014 for Columbia PTSD Data</em></p>\n",
      "<h2>Overview</h2>\n",
      "<p>We create a preprocessing pipeline using <a href=\"http://nipy.sourceforge.net/nipype/\">Nipype</a> for every subject and iterate over runs.  The pipeline is using spm for now to be consistent with Tor's original pipeline, but it is really easy to switch out any part with other software packages (e.g., fsl, nipy, afni, freesurfer, etc.). The pipeline can be automatically distributed to multiple processors using \"multiprocessing\" plugin or to Blanca using the \"sge\" plugin.  This <a href=\"http://ipython.org/notebook.html\">iPython notebook</a> can be run on your local computer via an SSH tunnel to Blanca.  Here is a helpful <a href=\"http://damontallen.github.io/IPython-quick-ref-sheets/\">link</a> with shortcuts for using iPython notebooks.  There is also a separate python script that can be run on an interactive node on blanca that works better right now until I solve the queue issue (currently waiting to submit jobs until previous one are out of completed state ~ 20 min)</p>\n",
      "<p>You will probably need to set up paths to my python build if you run this on Blanca (/projects/luch0518/software/).  The RC \"modules\" are outdated an cannot be updated without root access.</p>\n",
      "\n",
      "<h2>Preprocessing Steps</h2>\n",
      "<ol>\n",
      "<li>Slice timing</li>\n",
      "<li>Realignment to mean image</li>\n",
      "<li>Coregister anatomical to functional</li>\n",
      "<li>Segment anatomical with bias correction</li>\n",
      "<li>Normalize anatomical to MNI space</li>\n",
      "<li>Apply normalization to functionals</li>\n",
      "<li>Smooth - 8mm</li>\n",
      "<li>Artifact Detection - 3 sd of global mean (3.5 sd of root mean squared sucessive differences, mahalonobis distance across slices?  ask tor for more details, but ignore fo now)</li>\n",
      "<li>Create nuisance covariate matrix for glm (note the file has headers and NaNs for missing data in the derivative columns)</li>\n",
      "</ol>\n",
      "\n",
      "<h2>Figures Generated</h2>\n",
      "<ul>\n",
      "<li>Realignment Parameters (plot_realign/Realignment_parameters.pdf)</li>\n",
      "<li>MNI space single subject overlayed on mean warped functional (plot_normalization_check/Normalized_Functional_Check.pdf)</li>\n",
      "<li>Spikes identified using global signal (art/plot.rafunc.png)</li>\n",
      "</ul>\n",
      "<h2>To Do</h2>\n",
      "<ul>\n",
      "<li>Push general code to github and import functions</li>\n",
      "<li>Finish making all of Tor's Plots</li>\n",
      "<li>Figure out how Tor identifies spikes using mahalanobis distance</li>\n",
      "<li>Figure out how to fix delay introduced by completed states in Blanca Queue</li>\n",
      "<li>Add Sagittal plane to coregistration check</li>\n",
      "<li>Make function to look at overlap of all normalized binary masks.  Will need to add new node for this.</li>\n",
      "</ul>\n",
      "\n",
      "<h2>How to Set up iPython Notebook on Blanca</h2>\n",
      "<ol>\n",
      "<li>1) log on to Blanca and make sure you are using Luke's Python Anaconda distribution\n",
      "<br><br>\n",
      "```/projects/luch0518/software/anaconda```<br><br></li>\n",
      "<li>Start ipython notebook server on blanca.  Disable browser and specify port\n",
      "<br><br>```\n",
      "ipython notebook --no-browser --port=8889```\n",
      "<br><br>\n",
      "</li>\n",
      "\n",
      "<li>On your local computer, login to blanca using portforwarding\n",
      "<br><br>\n",
      "```\n",
      "ssh -N -f -L localhost:8889:localhost:8889 luch0518@blogin01.rc.colorado.edu\n",
      "```\n",
      "<br><br></li>\n",
      "\n",
      "<li>Open your browser to localhost:8889/tree</li>\n",
      "\n",
      "<li>The iPython notebook server should shutdown when you close the SSH connection, but just in case you can also kill the process.  Here is the command to find the process id:\n",
      "<br><br>\n",
      "```ps aux  | grep localhost:8889```\n",
      "<br><br></li>\n",
      "\n",
      "<li>Nipype can submit jobs automatically to Blanca.  You can check your queue or delete any process\n",
      "<br><br>\n",
      "<em>Check queue</em>\n",
      "<br><br>\n",
      "```qstat -u $USER```\n",
      "<br><br>\n",
      "<em>Delete Queue</em>\n",
      "<br><br>\n",
      "```qselect -u $USER | xargs qdel```<br></li>\n",
      "</ol>\n"
     ]
    },
    {
     "cell_type": "markdown",
     "metadata": {},
     "source": [
      "<h1>Function definitions</h1>\n",
      "<p>The following code creates a preprocessing workflow.  We define several helper functions and also create a few new interfaces for new functionality to nipype such as plotting a montage of the normalization, creating a covariate matrix, and plotting realignment parameters.  It is quite easy to code wrappers for other functions including matlab.  In the preprocessing workflow, we define nodes and then how the output of each node is routed or connected to the input of the next node.  This creates a graphical model of the pipeline.</p>"
     ]
    },
    {
     "cell_type": "code",
     "collapsed": false,
     "input": [
      "from nipype.interfaces import spm\n",
      "import nipype.interfaces.io as nio           # Data i/o\n",
      "import nipype.interfaces.utility as util     # utility\n",
      "from nipype.pipeline.engine import Node, Workflow\n",
      "from nipype.interfaces.base import BaseInterface, TraitedSpec, File, traits\n",
      "import nipype.algorithms.rapidart as ra      # artifact detection\n",
      "from nipype.interfaces.nipy.preprocess import ComputeMask\n",
      "import nipype.interfaces.matlab as mlab\n",
      "import os\n",
      "import nibabel as nib\n",
      "from IPython.display import Image\n",
      "import glob\n",
      "\n",
      "# Specify various inputs files for pipeline\n",
      "# spm_path = '/projects/ics/software/spm/spm8_r5236/'\n",
      "spm_path = '/Users/lukechang/Documents/Matlab/spm8/'\n",
      "canonical_file = spm_path + 'canonical/single_subj_T1.nii'\n",
      "template_file = spm_path + 'templates/T1.nii'\n",
      "\n",
      "# Set the way matlab should be called\n",
      "# mlab.MatlabCommand.set_default_matlab_cmd(\"matlab -nodesktop -nosplash -nojvm -noFigureWindows\")\n",
      "mlab.MatlabCommand.set_default_matlab_cmd(\"matlab -nodesktop -nosplash\")\n",
      "mlab.MatlabCommand.set_default_paths(spm_path)\n",
      "\n",
      "\n",
      "###############################\n",
      "## Functions\n",
      "###############################\n",
      "\n",
      "def get_n_slices(volume):\n",
      "    import nibabel as nib\n",
      "    nii = nib.load(volume)\n",
      "    return nii.get_shape()[2]\n",
      "\n",
      "def get_ta(tr, n_slices):\n",
      "    return tr - tr/float(n_slices)\n",
      "\n",
      "def get_slice_order(volume):\n",
      "    import nibabel as nib\n",
      "    nii = nib.load(volume)\n",
      "    n_slices = nii.get_shape()[2]\n",
      "    return range(1,n_slices+1)\n",
      "\n",
      "def get_vox_dims(volume):\n",
      "    import nibabel as nib\n",
      "    if isinstance(volume, list):\n",
      "        volume = volume[0]\n",
      "    nii = nib.load(volume)\n",
      "    hdr = nii.get_header()\n",
      "    voxdims = hdr.get_zooms()\n",
      "    return [float(voxdims[0]), float(voxdims[1]), float(voxdims[2])]\n",
      "\n",
      "class Plot_Coregistration_Montage_InputSpec(TraitedSpec):\n",
      "    wra_img = File(exists=True, mandatory=True) \n",
      "    canonical_img = File(exists=True, mandatory=True)\n",
      "    title = traits.Str(\"Normalized Functional Check\", usedefault=True)\n",
      "    \n",
      "class Plot_Coregistration_Montage_OutputSpec(TraitedSpec):\n",
      "    plot = File(exists=True)\n",
      "\n",
      "class Plot_Coregistration_Montage(BaseInterface):\n",
      "    # This function creates a plot of an axial montage of the average normalized functional data \n",
      "    # with the spm MNI space single subject T1 overlaid. Useful for checking normalization\n",
      "    input_spec = Plot_Coregistration_Montage_InputSpec\n",
      "    output_spec = Plot_Coregistration_Montage_OutputSpec\n",
      "\n",
      "    def _run_interface(self, runtime):\n",
      "        import nibabel as nib\n",
      "        from nilearn import plotting, datasets, image\n",
      "        from nipype.interfaces.base import isdefined\n",
      "        import numpy as np\n",
      "        import pylab as plt\n",
      "        import os\n",
      "        \n",
      "        wra_img = nib.load(self.inputs.wra_img)\n",
      "        canonical_img = nib.load(self.inputs.canonical_img)\n",
      "        title = self.inputs.title\n",
      "        mean_wraimg = image.mean_img(wra_img)\n",
      "        \n",
      "        if title != \"\":\n",
      "            filename = title.replace(\" \", \"_\")+\".pdf\"\n",
      "        else:\n",
      "            filename = \"plot.pdf\"\n",
      "        \n",
      "        fig = plotting.plot_anat(mean_wraimg, title=\"wrafunc & canonical single subject\", cut_coords=range(-40, 40, 10), display_mode='z')\n",
      "        fig.add_edges(canonical_img)     \n",
      "        fig.savefig(filename)\n",
      "        fig.close()\n",
      "        \n",
      "        self._plot = filename\n",
      "        \n",
      "        runtime.returncode=0\n",
      "        return runtime\n",
      "    \n",
      "    def _list_outputs(self):\n",
      "        outputs = self._outputs().get()\n",
      "        outputs[\"plot\"] = os.path.abspath(self._plot)\n",
      "        return outputs\n",
      "    \n",
      "class PlotRealignmentParametersInputSpec(TraitedSpec):\n",
      "    realignment_parameters = File(exists=True, mandatory=True)\n",
      "    outlier_files = File(exists=True)\n",
      "    title = traits.Str(\"Realignment parameters\", usedefault=True)\n",
      "    dpi = traits.Int(300, usedefault = True)\n",
      "    \n",
      "class PlotRealignmentParametersOutputSpec(TraitedSpec):\n",
      "    plot = File(exists=True)\n",
      "\n",
      "class PlotRealignmentParameters(BaseInterface):\n",
      "    #This function is adapted from Chris Gorgolewski's code and generates a plot of the realignment parameters\n",
      "\n",
      "    input_spec = PlotRealignmentParametersInputSpec\n",
      "    output_spec = PlotRealignmentParametersOutputSpec\n",
      "    \n",
      "    def _run_interface(self, runtime):\n",
      "        from nipype.interfaces.base import isdefined\n",
      "        import numpy as np\n",
      "        import pylab as plt\n",
      "        import os\n",
      "        realignment_parameters = np.loadtxt(self.inputs.realignment_parameters)\n",
      "        title = self.inputs.title\n",
      "        \n",
      "        F = plt.figure(figsize=(8.3,11.7))\n",
      "        F.text(0.5, 0.96, self.inputs.title, horizontalalignment='center')\n",
      "        ax1 = plt.subplot2grid((2,2),(0,0), colspan=2)\n",
      "        handles =ax1.plot(realignment_parameters[:,0:3])\n",
      "        ax1.legend(handles, [\"x translation\", \"y translation\", \"z translation\"], loc=0)\n",
      "        ax1.set_xlabel(\"image #\")\n",
      "        ax1.set_ylabel(\"mm\")\n",
      "        ax1.set_xlim((0,realignment_parameters.shape[0]-1))\n",
      "        ax1.set_ylim(bottom = realignment_parameters[:,0:3].min(), top = realignment_parameters[:,0:3].max())\n",
      "        \n",
      "        ax2 = plt.subplot2grid((2,2),(1,0), colspan=2)\n",
      "        handles= ax2.plot(realignment_parameters[:,3:6]*180.0/np.pi)\n",
      "        ax2.legend(handles, [\"pitch\", \"roll\", \"yaw\"], loc=0)\n",
      "        ax2.set_xlabel(\"image #\")\n",
      "        ax2.set_ylabel(\"degrees\")\n",
      "        ax2.set_xlim((0,realignment_parameters.shape[0]-1))\n",
      "        ax2.set_ylim(bottom=(realignment_parameters[:,3:6]*180.0/np.pi).min(), top= (realignment_parameters[:,3:6]*180.0/np.pi).max())\n",
      "        \n",
      "        if isdefined(self.inputs.outlier_files):\n",
      "            try:\n",
      "                outliers = np.loadtxt(self.inputs.outlier_files)\n",
      "            except IOError as e:\n",
      "                if e.args[0] == \"End-of-file reached before encountering data.\":\n",
      "                    pass\n",
      "                else:\n",
      "                    raise\n",
      "            else:\n",
      "                if outliers.size > 0:\n",
      "                    ax1.vlines(outliers, ax1.get_ylim()[0], ax1.get_ylim()[1])\n",
      "                    ax2.vlines(outliers, ax2.get_ylim()[0], ax2.get_ylim()[1])\n",
      "        \n",
      "        if title != \"\":\n",
      "            filename = title.replace(\" \", \"_\")+\".pdf\"\n",
      "        else:\n",
      "            filename = \"plot.pdf\"\n",
      "        \n",
      "        F.savefig(filename,papertype=\"a4\",dpi=self.inputs.dpi)\n",
      "        plt.clf()\n",
      "        plt.close()\n",
      "        del F\n",
      "        \n",
      "        self._plot = filename\n",
      "        \n",
      "        runtime.returncode=0\n",
      "        return runtime\n",
      "    \n",
      "    def _list_outputs(self):\n",
      "        outputs = self._outputs().get()\n",
      "        outputs[\"plot\"] = os.path.abspath(self._plot)\n",
      "        return outputs\n",
      "\n",
      "class Create_Covariates_InputSpec(TraitedSpec):\t\n",
      "    realignment_parameters = File(exists=True, mandatory=True) \n",
      "    spike_id = File(exists=True, mandatory=True)\n",
      "\n",
      "class Create_Covariates_OutputSpec(TraitedSpec):\n",
      "    covariates = File(exists=True)\n",
      "\n",
      "class Create_Covariates(BaseInterface):\n",
      "    # This function creates a matrix of the nuisance covariates used for the GLM.\n",
      "    # Note that the output file has headers and also has NaNs that may need to be accounted for.\n",
      "    input_spec = Create_Covariates_InputSpec\n",
      "    output_spec = Create_Covariates_OutputSpec\n",
      "\n",
      "    def _run_interface(self, runtime):\n",
      "        import pandas as pd\n",
      "        import numpy as np\n",
      "\n",
      "        ra = pd.read_table(self.inputs.realignment_parameters, header=None, sep=r\"\\s*\", names=['ra' + str(x) for x in range(1,7)])\n",
      "        spike = pd.read_table(self.inputs.spike_id, header=None,names=['Spikes'])\n",
      "\n",
      "        ra = ra-ra.mean() #mean center\n",
      "        ra[['rasq' + str(x) for x in range(1,7)]] = ra**2 #add squared\n",
      "        ra[['radiff' + str(x) for x in range(1,7)]] = pd.DataFrame(ra[ra.columns[0:6]].diff()) #derivative\n",
      "        ra[['radiffsq' + str(x) for x in range(1,7)]] = pd.DataFrame(ra[ra.columns[0:6]].diff())**2 #derivatives squared\n",
      "\n",
      "        #build spike regressors\n",
      "        for i,loc in enumerate(spike['Spikes']):\n",
      "            ra['spike' + str(i+1)] = 0\n",
      "            ra['spike' + str(i+1)].iloc[loc] = 1\n",
      "\n",
      "        filename = 'covariates.csv'\n",
      "        ra.to_csv(filename, index=False) #write out to file\n",
      "        self._covariates = filename\n",
      "\n",
      "        runtime.returncode=0\n",
      "        return runtime\n",
      "\n",
      "    def _list_outputs(self):\n",
      "        outputs = self._outputs().get()\n",
      "        outputs[\"covariates\"] = os.path.abspath(self._covariates)\n",
      "        return outputs\n",
      "\n",
      "    \n",
      "def create_preproc_func_pipeline(data_dir=None, subject_id=None, task_list=None):\n",
      "\n",
      "    ###############################\n",
      "    ## Set up Nodes\n",
      "    ###############################\n",
      "\n",
      "    #Setup Data Source for Input Data\n",
      "    #     data_dir = '/Users/lukechang/Dropbox/PTSD/Data/Imaging'\n",
      "    #     task_list = ['s1_r1Cond','s1_r1Ext','s1_r2Rec','s1_r2Ren']\n",
      "    ds = Node(nio.DataGrabber(infields=['subject_id', 'task_id'], outfields=['func', 'struc']),name='datasource')\n",
      "    ds.inputs.base_directory = os.path.abspath(data_dir + '/' + subject_id)\n",
      "    ds.inputs.template = '*'\n",
      "    ds.inputs.sort_filelist = True\n",
      "    ds.inputs.template_args = {'func': [['task_id']], 'struc':[]}\n",
      "    ds.inputs.field_template = {'func': 'Functional/Raw/%s/func.nii','struc': 'Structural/SPGR/spgr.nii'}\n",
      "    ds.inputs.subject_id = subject_id\n",
      "    ds.inputs.task_id = task_list\n",
      "    ds.iterables = ('task_id',task_list)\n",
      "    # ds.run().outputs #show datafiles\n",
      "\n",
      "    # #Setup Data Sinker for writing output files\n",
      "    # datasink = Node(nio.DataSink(), name='sinker')\n",
      "    # datasink.inputs.base_directory = '/path/to/output'\n",
      "    # workflow.connect(realigner, 'realignment_parameters', datasink, 'motion.@par')\n",
      "    # datasink.inputs.substitutions = [('_variable', 'variable'),('file_subject_', '')]\n",
      "\n",
      "    #Get Timing Acquisition for slice timing\n",
      "    tr = 2\n",
      "    ta = Node(interface=util.Function(input_names=['tr', 'n_slices'], output_names=['ta'],  function = get_ta), name=\"ta\")\n",
      "    ta.inputs.tr=tr\n",
      "\n",
      "    #Slice Timing: sequential ascending \n",
      "    slice_timing = Node(interface=spm.SliceTiming(), name=\"slice_timing\")\n",
      "    slice_timing.inputs.time_repetition = tr\n",
      "    slice_timing.inputs.ref_slice = 1\n",
      "\n",
      "    #Realignment - 6 parameters - realign to first image of very first series.\n",
      "    realign = Node(interface=spm.Realign(), name=\"realign\")\n",
      "    realign.inputs.register_to_mean = True\n",
      "\n",
      "    #Plot Realignment\n",
      "    plot_realign = Node(interface=PlotRealignmentParameters(), name=\"plot_realign\")\n",
      "\n",
      "    #Artifact Detection\n",
      "    art = Node(interface=ra.ArtifactDetect(), name=\"art\")\n",
      "    art.inputs.use_differences      = [True,False]\n",
      "    art.inputs.use_norm             = True\n",
      "    art.inputs.norm_threshold       = 1\n",
      "    art.inputs.zintensity_threshold = 3\n",
      "    art.inputs.mask_type            = 'file'\n",
      "    art.inputs.parameter_source     = 'SPM'\n",
      "    \n",
      "    #Coregister - 12 parameters, cost function = 'nmi', fwhm 7, interpolate, don't mask\n",
      "    #anatomical to functional mean across all available data.\n",
      "    coregister = Node(interface=spm.Coregister(), name=\"coregister\")\n",
      "    coregister.inputs.jobtype = 'estimate'\n",
      "\n",
      "    # Segment structural, gray/white/csf,mni, \n",
      "    segment = Node(interface=spm.Segment(), name=\"segment\")\n",
      "    segment.inputs.save_bias_corrected = True\n",
      "    \n",
      "    #Normalize - structural to MNI - then apply this to the coregistered functionals\n",
      "    normalize = Node(interface=spm.Normalize(), name = \"normalize\")\n",
      "    normalize.inputs.template = os.path.abspath(template_file)\n",
      "\n",
      "    #Plot normalization Check\n",
      "    plot_normalization_check = Node(interface=Plot_Coregistration_Montage(), name=\"plot_normalization_check\")\n",
      "    plot_normalization_check.inputs.canonical_img = canonical_file\n",
      "    \n",
      "    #Create Mask\n",
      "    compute_mask = Node(interface=ComputeMask(), name=\"compute_mask\")\n",
      "    #remove lower 5% of histogram of mean image\n",
      "    compute_mask.inputs.m = .05\n",
      "        \n",
      "    #Smooth\n",
      "    #implicit masking (.im) = 0, dtype = 0\n",
      "    smooth = Node(interface=spm.Smooth(), name = \"smooth\")\n",
      "    fwhmlist = [8]\n",
      "    smooth.iterables = ('fwhm',fwhmlist)\n",
      "\n",
      "    #Create Covariate matrix\n",
      "    make_covariates = Node(interface=Create_Covariates(), name=\"make_covariates\")\n",
      "   \n",
      "    ###############################\n",
      "    ## Create Pipeline\n",
      "    ###############################\n",
      "\n",
      "    Preprocessed = Workflow(name=\"Preprocessed\")\n",
      "    Preprocessed.base_dir = os.path.abspath(data_dir + '/' + subject_id + '/Functional')\n",
      "\n",
      "    Preprocessed.connect([  \n",
      "                        (ds, ta, [(('func', get_n_slices), \"n_slices\")]),\n",
      "                        (ta, slice_timing, [(\"ta\", \"time_acquisition\")]),\n",
      "                        (ds, slice_timing, [('func', 'in_files'),\n",
      "                                            (('func', get_n_slices), \"num_slices\"),\n",
      "                                            (('func', get_slice_order), \"slice_order\"),\n",
      "                                            ]),\n",
      "                        (slice_timing, realign, [('timecorrected_files', 'in_files')]),\n",
      "                        (realign, compute_mask, [('mean_image','mean_volume')]),\n",
      "                        (realign,coregister, [('mean_image', 'target')]),\n",
      "                        (ds,coregister, [('struc', 'source')]),\n",
      "                        (coregister,segment, [('coregistered_source', 'data')]),\n",
      "                        (segment, normalize, [('transformation_mat','parameter_file'),\n",
      "                                             ('bias_corrected_image', 'source'),]),\n",
      "                        (realign,normalize, [('realigned_files', 'apply_to_files'),\n",
      "                                             (('realigned_files', get_vox_dims), 'write_voxel_sizes')]),\n",
      "                        (normalize, smooth, [('normalized_files', 'in_files')]),\n",
      "                        (compute_mask,art,[('brain_mask','mask_file')]),\n",
      "                        (realign,art,[('realignment_parameters','realignment_parameters')]),\n",
      "                        (realign,art,[('realigned_files','realigned_files')]),\n",
      "                        (realign,plot_realign, [('realignment_parameters', 'realignment_parameters')]),\n",
      "                        (normalize, plot_normalization_check, [('normalized_files', 'wra_img')]),\n",
      "                        (realign, make_covariates, [('realignment_parameters', 'realignment_parameters')]),\n",
      "                        (art, make_covariates, [('outlier_files', 'spike_id')]),\n",
      "                      ])\n",
      "    return Preprocessed\n"
     ],
     "language": "python",
     "metadata": {},
     "outputs": [
      {
       "output_type": "stream",
       "stream": "stdout",
       "text": [
        "Couldn't import dot_parser, loading of dot files will not be possible.\n"
       ]
      }
     ],
     "prompt_number": 1
    },
    {
     "cell_type": "markdown",
     "metadata": {},
     "source": [
      "<h1>Pipeline</h1>\n",
      "<p>Here is a directed acyclic graph of the preprocessing pipeline.  Each processing step in the workflow is a node in the graph. The node names will be directories created in the 'Preprocessed' folder.  You can easily run different pipelines on the same data without interfering with other pipelines.  All of the files you will need for subsequent analyses will be in each of these folders.  If you make changes to a node, nipype will only rerun the thing you changed and all dependent nodes.  Simply rerun the code.  Also, you can easily iterate over different settings without creating separate pipelines using iterables.  Here we are treating the smoothing parameter as an iterable.  It is currently set at 8mm, but you can input a vector of different sizes and it will run all of them.</p>"
     ]
    },
    {
     "cell_type": "code",
     "collapsed": false,
     "input": [
      "data_dir = '/Users/lukechang/Dropbox/PTSD/Data/Imaging/'\n",
      "sub = 'subj46153C'\n",
      "Preprocessed = create_preproc_func_pipeline(data_dir = data_dir, subject_id=sub)\n",
      "Preprocessed.write_graph(data_dir + sub + \"/Preprocessed_Workflow.dot\")\n",
      "Image(filename=data_dir + sub + '/Preprocessed_Workflow.dot.png')"
     ],
     "language": "python",
     "metadata": {},
     "outputs": [
      {
       "output_type": "stream",
       "stream": "stderr",
       "text": [
        "INFO:workflow:Converting dotfile: /Users/lukechang/Dropbox/PTSD/Data/Imaging/subj46153C/Preprocessed_Workflow.dot to png format\n"
       ]
      },
      {
       "metadata": {},
       "output_type": "pyout",
       "png": "[encoded data removed]",
       "prompt_number": 4,
       "text": [
        "<IPython.core.display.Image at 0x108db5fd0>"
       ]
      }
     ],
     "prompt_number": 4
    },
    {
     "cell_type": "markdown",
     "metadata": {},
     "source": [
      "<h1>Run Code</h1>\n",
      "<p>Running the pipeline is really easy and can be run on your local laptop, mac workstation, or blanca.  Basically, we create a Pipeline for a given subject and execute the pipeline iterating over runs. This particular code looks for available subjects and runs and automatically distributes them in parallel. It assumes your data is in the standard Canlab format (e.g., Imaging/Subjects/Functional/Raw/Run/func.nii)</p>\n",
      "<p>Pipeline.run() will excecute the pipeline.\n",
      "<BR>\n",
      "plugin=\"MultiProc\" will run in parallel on a local computer while plugin=\"PBS\" will submit jobs on Blanca</p>\n",
      "<p>Submitting jobs using PBS is really slow because nipype is waiting to submit jobs while they are in \"c\" completed state.  I still need to figure this out.  I have a python script called setup_ptsd.py in my Notebooks folder that I am running using an interactive node on Blanca.  It's really fast! (~10min to run a subject's 8 functional runs)</p>"
     ]
    },
    {
     "cell_type": "code",
     "collapsed": false,
     "input": [
      "# Create Pipeline for subject\n",
      "data_dir='/Users/lukechang/Dropbox/PTSD/Data/Imaging'\n",
      "\n",
      "# subject_id = 'subj46153C'\n",
      "# task_list=['s1_r1Cond','s1_r1Ext','s2_r1Cond','s2_r2Rec','s1_r1Ext','s1_r2Ren','s2_r1Ext','s2_r2Ren']\n",
      "# Preprocessed = create_preproc_func_pipeline(data_dir=data_dir, subject_id = subject_id, task_list=task_list)\n",
      "\n",
      "sublist = sorted([x.split('/')[-1] for x in glob.glob(data_dir + '/subj*')])\n",
      "\n",
      "#Run first half of subjects\n",
      "for sub in reversed(sublist):\n",
      "    #Glob Subject runs as they vary\n",
      "    runlist = [x.split('/')[-1] for x in glob.glob(data_dir + '/' + sub + '/Functional/Raw/*')]\n",
      "    Preprocessed = create_preproc_func_pipeline(data_dir=data_dir, subject_id = sub, task_list=runlist)\n",
      "\n",
      "    print  data_dir + '/' + sub\n",
      "\n",
      "    # Write out pipeline as a DAG\n",
      "    Preprocessed.write_graph(dotfilename=data_dir + '/' + sub + \"/Functional/Preprocessed_Workflow.dot.svg\",format='svg')\n",
      "#     Preprocessed.write_graph(data_dir + '/' + subject_id + \"/Preprocessed_Workflow.dot.png\")\n",
      "#     Image(filename=data_dir + '/' + sub + \"/Functional/Preprocessed_Workflow.dot.png\")\n",
      "    Preprocessed.run(plugin='MultiProc', plugin_args={'n_procs' : 12}) \n",
      "#     Run on workstation in parallelPreprocessed.run(plugin='PBS') #Run on Blanca in parallel\n"
     ],
     "language": "python",
     "metadata": {},
     "outputs": [
      {
       "output_type": "stream",
       "stream": "stderr",
       "text": [
        "INFO:workflow:Converting dotfile: /Users/lukechang/Dropbox/PTSD/Data/Imaging/subj46153C/Preprocessed_Workflow.dot.png to png format\n"
       ]
      },
      {
       "output_type": "stream",
       "stream": "stderr",
       "text": [
        "INFO:workflow:['check', 'execution', 'logging']\n"
       ]
      },
      {
       "output_type": "stream",
       "stream": "stderr",
       "text": [
        "INFO:workflow:Running in parallel.\n"
       ]
      },
      {
       "output_type": "stream",
       "stream": "stderr",
       "text": [
        "INFO:workflow:Submitting 4 jobs\n"
       ]
      },
      {
       "output_type": "stream",
       "stream": "stderr",
       "text": [
        "INFO:workflow:Executing: datasource.bI.b1 ID: 0\n"
       ]
      },
      {
       "output_type": "stream",
       "stream": "stderr",
       "text": [
        "INFO:workflow:Executing: datasource.bI.b0 ID: 13\n"
       ]
      },
      {
       "output_type": "stream",
       "stream": "stderr",
       "text": [
        "INFO:workflow:Executing: datasource.bI.b2 ID: 26\n"
       ]
      },
      {
       "output_type": "stream",
       "stream": "stderr",
       "text": [
        "INFO:workflow:Executing: datasource.bI.b3 ID: 39\n"
       ]
      },
      {
       "output_type": "stream",
       "stream": "stderr",
       "text": [
        "INFO:workflow:[Job finished] jobname: datasource.bI.b1 jobid: 0\n",
        "INFO:workflow:Executing node datasource.bI.b1 in dir: /Users/lukechang/Dropbox/PTSD/Data/Imaging/subj46153C/Functional/Preprocessed/_task_id_s2_r2Rec/datasource\n",
        "INFO:workflow:Executing node datasource.bI.b0 in dir: /Users/lukechang/Dropbox/PTSD/Data/Imaging/subj46153C/Functional/Preprocessed/_task_id_s2_r1Cond/datasource\n",
        "INFO:workflow:Executing node datasource.bI.b2 in dir: /Users/lukechang/Dropbox/PTSD/Data/Imaging/subj46153C/Functional/Preprocessed/_task_id_s2_r1Ext/datasource\n",
        "INFO:workflow:Executing node datasource.bI.b3 in dir: /Users/lukechang/Dropbox/PTSD/Data/Imaging/subj46153C/Functional/Preprocessed/_task_id_s2_r2Ren/datasource\n"
       ]
      },
      {
       "output_type": "stream",
       "stream": "stderr",
       "text": [
        "INFO:workflow:[Job finished] jobname: datasource.bI.b0 jobid: 13\n"
       ]
      },
      {
       "output_type": "stream",
       "stream": "stderr",
       "text": [
        "INFO:workflow:[Job finished] jobname: datasource.bI.b2 jobid: 26\n"
       ]
      },
      {
       "output_type": "stream",
       "stream": "stderr",
       "text": [
        "INFO:workflow:[Job finished] jobname: datasource.bI.b3 jobid: 39\n"
       ]
      },
      {
       "output_type": "stream",
       "stream": "stderr",
       "text": [
        "INFO:workflow:Submitting 4 jobs\n"
       ]
      },
      {
       "output_type": "stream",
       "stream": "stderr",
       "text": [
        "INFO:workflow:Executing: ta.b1 ID: 1\n"
       ]
      },
      {
       "output_type": "stream",
       "stream": "stderr",
       "text": [
        "INFO:workflow:[Job finished] jobname: ta.b1 jobid: 1\n"
       ]
      },
      {
       "output_type": "stream",
       "stream": "stderr",
       "text": [
        "INFO:workflow:Executing: ta.b0 ID: 14\n"
       ]
      },
      {
       "output_type": "stream",
       "stream": "stderr",
       "text": [
        "INFO:workflow:[Job finished] jobname: ta.b0 jobid: 14\n"
       ]
      },
      {
       "output_type": "stream",
       "stream": "stderr",
       "text": [
        "INFO:workflow:Executing: ta.b2 ID: 27\n"
       ]
      },
      {
       "output_type": "stream",
       "stream": "stderr",
       "text": [
        "INFO:workflow:[Job finished] jobname: ta.b2 jobid: 27\n"
       ]
      },
      {
       "output_type": "stream",
       "stream": "stderr",
       "text": [
        "INFO:workflow:Executing: ta.b3 ID: 40\n"
       ]
      },
      {
       "output_type": "stream",
       "stream": "stderr",
       "text": [
        "INFO:workflow:[Job finished] jobname: ta.b3 jobid: 40\n"
       ]
      },
      {
       "output_type": "stream",
       "stream": "stderr",
       "text": [
        "INFO:workflow:Submitting 4 jobs\n"
       ]
      },
      {
       "output_type": "stream",
       "stream": "stderr",
       "text": [
        "INFO:workflow:Executing: slice_timing.b1 ID: 2\n"
       ]
      },
      {
       "output_type": "stream",
       "stream": "stderr",
       "text": [
        "INFO:workflow:[Job finished] jobname: slice_timing.b1 jobid: 2\n"
       ]
      },
      {
       "output_type": "stream",
       "stream": "stderr",
       "text": [
        "INFO:workflow:Executing: slice_timing.b0 ID: 15\n"
       ]
      },
      {
       "output_type": "stream",
       "stream": "stderr",
       "text": [
        "INFO:workflow:[Job finished] jobname: slice_timing.b0 jobid: 15\n"
       ]
      },
      {
       "output_type": "stream",
       "stream": "stderr",
       "text": [
        "INFO:workflow:Executing: slice_timing.b2 ID: 28\n"
       ]
      },
      {
       "output_type": "stream",
       "stream": "stderr",
       "text": [
        "INFO:workflow:[Job finished] jobname: slice_timing.b2 jobid: 28\n"
       ]
      },
      {
       "output_type": "stream",
       "stream": "stderr",
       "text": [
        "INFO:workflow:Executing: slice_timing.b3 ID: 41\n"
       ]
      },
      {
       "output_type": "stream",
       "stream": "stderr",
       "text": [
        "INFO:workflow:[Job finished] jobname: slice_timing.b3 jobid: 41\n"
       ]
      },
      {
       "output_type": "stream",
       "stream": "stderr",
       "text": [
        "INFO:workflow:Submitting 4 jobs\n"
       ]
      },
      {
       "output_type": "stream",
       "stream": "stderr",
       "text": [
        "INFO:workflow:Executing: realign.b1 ID: 3\n"
       ]
      },
      {
       "output_type": "stream",
       "stream": "stderr",
       "text": [
        "INFO:workflow:[Job finished] jobname: realign.b1 jobid: 3\n"
       ]
      },
      {
       "output_type": "stream",
       "stream": "stderr",
       "text": [
        "INFO:workflow:Executing: realign.b0 ID: 16\n"
       ]
      },
      {
       "output_type": "stream",
       "stream": "stderr",
       "text": [
        "INFO:workflow:[Job finished] jobname: realign.b0 jobid: 16\n"
       ]
      },
      {
       "output_type": "stream",
       "stream": "stderr",
       "text": [
        "INFO:workflow:Executing: realign.b2 ID: 29\n"
       ]
      },
      {
       "output_type": "stream",
       "stream": "stderr",
       "text": [
        "INFO:workflow:[Job finished] jobname: realign.b2 jobid: 29\n"
       ]
      },
      {
       "output_type": "stream",
       "stream": "stderr",
       "text": [
        "INFO:workflow:Executing: realign.b3 ID: 42\n"
       ]
      },
      {
       "output_type": "stream",
       "stream": "stderr",
       "text": [
        "INFO:workflow:[Job finished] jobname: realign.b3 jobid: 42\n"
       ]
      },
      {
       "output_type": "stream",
       "stream": "stderr",
       "text": [
        "INFO:workflow:Submitting 12 jobs\n"
       ]
      },
      {
       "output_type": "stream",
       "stream": "stderr",
       "text": [
        "INFO:workflow:Executing: coregister.b1 ID: 4\n"
       ]
      },
      {
       "output_type": "stream",
       "stream": "stderr",
       "text": [
        "INFO:workflow:[Job finished] jobname: coregister.b1 jobid: 4\n"
       ]
      },
      {
       "output_type": "stream",
       "stream": "stderr",
       "text": [
        "INFO:workflow:Executing: plot_realign.b1 ID: 6\n"
       ]
      },
      {
       "output_type": "stream",
       "stream": "stderr",
       "text": [
        "INFO:workflow:[Job finished] jobname: plot_realign.b1 jobid: 6\n"
       ]
      },
      {
       "output_type": "stream",
       "stream": "stderr",
       "text": [
        "INFO:workflow:Executing: compute_mask.b1 ID: 7\n"
       ]
      },
      {
       "output_type": "stream",
       "stream": "stderr",
       "text": [
        "INFO:workflow:[Job finished] jobname: compute_mask.b1 jobid: 7\n"
       ]
      },
      {
       "output_type": "stream",
       "stream": "stderr",
       "text": [
        "INFO:workflow:Executing: plot_realign.b0 ID: 17\n"
       ]
      },
      {
       "output_type": "stream",
       "stream": "stderr",
       "text": [
        "INFO:workflow:[Job finished] jobname: plot_realign.b0 jobid: 17\n"
       ]
      },
      {
       "output_type": "stream",
       "stream": "stderr",
       "text": [
        "INFO:workflow:Executing: compute_mask.b0 ID: 18\n"
       ]
      },
      {
       "output_type": "stream",
       "stream": "stderr",
       "text": [
        "INFO:workflow:[Job finished] jobname: compute_mask.b0 jobid: 18\n"
       ]
      },
      {
       "output_type": "stream",
       "stream": "stderr",
       "text": [
        "INFO:workflow:Executing: coregister.b0 ID: 21\n"
       ]
      },
      {
       "output_type": "stream",
       "stream": "stderr",
       "text": [
        "INFO:workflow:[Job finished] jobname: coregister.b0 jobid: 21\n"
       ]
      },
      {
       "output_type": "stream",
       "stream": "stderr",
       "text": [
        "INFO:workflow:Executing: coregister.b2 ID: 30\n"
       ]
      },
      {
       "output_type": "stream",
       "stream": "stderr",
       "text": [
        "INFO:workflow:[Job finished] jobname: coregister.b2 jobid: 30\n"
       ]
      },
      {
       "output_type": "stream",
       "stream": "stderr",
       "text": [
        "INFO:workflow:Executing: plot_realign.b2 ID: 35\n"
       ]
      },
      {
       "output_type": "stream",
       "stream": "stderr",
       "text": [
        "INFO:workflow:[Job finished] jobname: plot_realign.b2 jobid: 35\n"
       ]
      },
      {
       "output_type": "stream",
       "stream": "stderr",
       "text": [
        "INFO:workflow:Executing: compute_mask.b2 ID: 36\n"
       ]
      },
      {
       "output_type": "stream",
       "stream": "stderr",
       "text": [
        "INFO:workflow:[Job finished] jobname: compute_mask.b2 jobid: 36\n"
       ]
      },
      {
       "output_type": "stream",
       "stream": "stderr",
       "text": [
        "INFO:workflow:Executing: plot_realign.b3 ID: 43\n"
       ]
      },
      {
       "output_type": "stream",
       "stream": "stderr",
       "text": [
        "INFO:workflow:[Job finished] jobname: plot_realign.b3 jobid: 43\n"
       ]
      },
      {
       "output_type": "stream",
       "stream": "stderr",
       "text": [
        "INFO:workflow:Executing: coregister.b3 ID: 44\n"
       ]
      },
      {
       "output_type": "stream",
       "stream": "stderr",
       "text": [
        "INFO:workflow:[Job finished] jobname: coregister.b3 jobid: 44\n"
       ]
      },
      {
       "output_type": "stream",
       "stream": "stderr",
       "text": [
        "INFO:workflow:Executing: compute_mask.b3 ID: 46\n"
       ]
      },
      {
       "output_type": "stream",
       "stream": "stderr",
       "text": [
        "INFO:workflow:[Job finished] jobname: compute_mask.b3 jobid: 46\n"
       ]
      },
      {
       "output_type": "stream",
       "stream": "stderr",
       "text": [
        "INFO:workflow:Submitting 8 jobs\n"
       ]
      },
      {
       "output_type": "stream",
       "stream": "stderr",
       "text": [
        "INFO:workflow:Executing: segment.b1 ID: 5\n"
       ]
      },
      {
       "output_type": "stream",
       "stream": "stderr",
       "text": [
        "INFO:workflow:[Job finished] jobname: segment.b1 jobid: 5\n"
       ]
      },
      {
       "output_type": "stream",
       "stream": "stderr",
       "text": [
        "INFO:workflow:Executing: art.b1 ID: 10\n"
       ]
      },
      {
       "output_type": "stream",
       "stream": "stderr",
       "text": [
        "INFO:workflow:[Job finished] jobname: art.b1 jobid: 10\n"
       ]
      },
      {
       "output_type": "stream",
       "stream": "stderr",
       "text": [
        "INFO:workflow:Executing: art.b0 ID: 19\n"
       ]
      },
      {
       "output_type": "stream",
       "stream": "stderr",
       "text": [
        "INFO:workflow:[Job finished] jobname: art.b0 jobid: 19\n"
       ]
      },
      {
       "output_type": "stream",
       "stream": "stderr",
       "text": [
        "INFO:workflow:Executing: segment.b0 ID: 22\n"
       ]
      },
      {
       "output_type": "stream",
       "stream": "stderr",
       "text": [
        "INFO:workflow:[Job finished] jobname: segment.b0 jobid: 22\n"
       ]
      },
      {
       "output_type": "stream",
       "stream": "stderr",
       "text": [
        "INFO:workflow:Executing: segment.b2 ID: 31\n"
       ]
      },
      {
       "output_type": "stream",
       "stream": "stderr",
       "text": [
        "INFO:workflow:[Job finished] jobname: segment.b2 jobid: 31\n"
       ]
      },
      {
       "output_type": "stream",
       "stream": "stderr",
       "text": [
        "INFO:workflow:Executing: art.b2 ID: 37\n"
       ]
      },
      {
       "output_type": "stream",
       "stream": "stderr",
       "text": [
        "INFO:workflow:[Job finished] jobname: art.b2 jobid: 37\n"
       ]
      },
      {
       "output_type": "stream",
       "stream": "stderr",
       "text": [
        "INFO:workflow:Executing: segment.b3 ID: 45\n"
       ]
      },
      {
       "output_type": "stream",
       "stream": "stderr",
       "text": [
        "INFO:workflow:[Job finished] jobname: segment.b3 jobid: 45\n"
       ]
      },
      {
       "output_type": "stream",
       "stream": "stderr",
       "text": [
        "INFO:workflow:Executing: art.b3 ID: 50\n"
       ]
      },
      {
       "output_type": "stream",
       "stream": "stderr",
       "text": [
        "INFO:workflow:[Job finished] jobname: art.b3 jobid: 50\n"
       ]
      },
      {
       "output_type": "stream",
       "stream": "stderr",
       "text": [
        "INFO:workflow:Submitting 8 jobs\n"
       ]
      },
      {
       "output_type": "stream",
       "stream": "stderr",
       "text": [
        "INFO:workflow:Executing: normalize.b1 ID: 8\n"
       ]
      },
      {
       "output_type": "stream",
       "stream": "stderr",
       "text": [
        "INFO:workflow:[Job finished] jobname: normalize.b1 jobid: 8\n"
       ]
      },
      {
       "output_type": "stream",
       "stream": "stderr",
       "text": [
        "INFO:workflow:Executing: make_covariates.b1 ID: 11\n"
       ]
      },
      {
       "output_type": "stream",
       "stream": "stderr",
       "text": [
        "INFO:workflow:Executing: make_covariates.b0 ID: 20\n"
       ]
      },
      {
       "output_type": "stream",
       "stream": "stderr",
       "text": [
        "INFO:workflow:[Job finished] jobname: make_covariates.b0 jobid: 20\n",
        "INFO:workflow:Executing node make_covariates.b1 in dir: /Users/lukechang/Dropbox/PTSD/Data/Imaging/subj46153C/Functional/Preprocessed/_task_id_s2_r2Rec/make_covariates\n"
       ]
      },
      {
       "output_type": "stream",
       "stream": "stderr",
       "text": [
        "INFO:workflow:Executing: normalize.b0 ID: 23\n"
       ]
      },
      {
       "output_type": "stream",
       "stream": "stderr",
       "text": [
        "INFO:workflow:[Job finished] jobname: normalize.b0 jobid: 23\n"
       ]
      },
      {
       "output_type": "stream",
       "stream": "stderr",
       "text": [
        "INFO:workflow:Executing: normalize.b2 ID: 32\n"
       ]
      },
      {
       "output_type": "stream",
       "stream": "stderr",
       "text": [
        "INFO:workflow:[Job finished] jobname: normalize.b2 jobid: 32\n"
       ]
      },
      {
       "output_type": "stream",
       "stream": "stderr",
       "text": [
        "INFO:workflow:Executing: make_covariates.b2 ID: 38\n"
       ]
      },
      {
       "output_type": "stream",
       "stream": "stderr",
       "text": [
        "INFO:workflow:[Job finished] jobname: make_covariates.b2 jobid: 38\n"
       ]
      },
      {
       "output_type": "stream",
       "stream": "stderr",
       "text": [
        "INFO:workflow:Executing: normalize.b3 ID: 47\n"
       ]
      },
      {
       "output_type": "stream",
       "stream": "stderr",
       "text": [
        "INFO:workflow:[Job finished] jobname: normalize.b3 jobid: 47\n"
       ]
      },
      {
       "output_type": "stream",
       "stream": "stderr",
       "text": [
        "INFO:workflow:Executing: make_covariates.b3 ID: 51\n"
       ]
      },
      {
       "output_type": "stream",
       "stream": "stderr",
       "text": [
        "INFO:workflow:[Job finished] jobname: make_covariates.b3 jobid: 51\n"
       ]
      },
      {
       "output_type": "stream",
       "stream": "stderr",
       "text": [
        "INFO:workflow:Submitting 8 jobs\n"
       ]
      },
      {
       "output_type": "stream",
       "stream": "stderr",
       "text": [
        "INFO:workflow:Executing: plot_normalization_check.b1 ID: 9\n"
       ]
      },
      {
       "output_type": "stream",
       "stream": "stderr",
       "text": [
        "INFO:workflow:[Job finished] jobname: plot_normalization_check.b1 jobid: 9\n"
       ]
      },
      {
       "output_type": "stream",
       "stream": "stderr",
       "text": [
        "INFO:workflow:Executing: smooth.aI.a0.b1 ID: 12\n"
       ]
      },
      {
       "output_type": "stream",
       "stream": "stderr",
       "text": [
        "INFO:workflow:[Job finished] jobname: smooth.aI.a0.b1 jobid: 12\n"
       ]
      },
      {
       "output_type": "stream",
       "stream": "stderr",
       "text": [
        "INFO:workflow:Executing: plot_normalization_check.b0 ID: 24\n"
       ]
      },
      {
       "output_type": "stream",
       "stream": "stderr",
       "text": [
        "INFO:workflow:[Job finished] jobname: plot_normalization_check.b0 jobid: 24\n"
       ]
      },
      {
       "output_type": "stream",
       "stream": "stderr",
       "text": [
        "INFO:workflow:Executing: smooth.aI.a0.b0 ID: 25\n"
       ]
      },
      {
       "output_type": "stream",
       "stream": "stderr",
       "text": [
        "INFO:workflow:[Job finished] jobname: smooth.aI.a0.b0 jobid: 25\n"
       ]
      },
      {
       "output_type": "stream",
       "stream": "stderr",
       "text": [
        "INFO:workflow:Executing: smooth.aI.a0.b2 ID: 33\n"
       ]
      },
      {
       "output_type": "stream",
       "stream": "stderr",
       "text": [
        "INFO:workflow:[Job finished] jobname: smooth.aI.a0.b2 jobid: 33\n"
       ]
      },
      {
       "output_type": "stream",
       "stream": "stderr",
       "text": [
        "INFO:workflow:Executing: plot_normalization_check.b2 ID: 34\n"
       ]
      },
      {
       "output_type": "stream",
       "stream": "stderr",
       "text": [
        "INFO:workflow:[Job finished] jobname: plot_normalization_check.b2 jobid: 34\n"
       ]
      },
      {
       "output_type": "stream",
       "stream": "stderr",
       "text": [
        "INFO:workflow:Executing: smooth.aI.a0.b3 ID: 48\n"
       ]
      },
      {
       "output_type": "stream",
       "stream": "stderr",
       "text": [
        "INFO:workflow:[Job finished] jobname: smooth.aI.a0.b3 jobid: 48\n"
       ]
      },
      {
       "output_type": "stream",
       "stream": "stderr",
       "text": [
        "INFO:workflow:Executing: plot_normalization_check.b3 ID: 49\n"
       ]
      },
      {
       "output_type": "stream",
       "stream": "stderr",
       "text": [
        "INFO:workflow:[Job finished] jobname: plot_normalization_check.b3 jobid: 49\n"
       ]
      },
      {
       "output_type": "stream",
       "stream": "stderr",
       "text": [
        "INFO:workflow:[Job finished] jobname: make_covariates.b1 jobid: 11\n"
       ]
      },
      {
       "metadata": {},
       "output_type": "pyout",
       "prompt_number": 160,
       "text": [
        "<networkx.classes.digraph.DiGraph at 0x10e242590>"
       ]
      }
     ],
     "prompt_number": 160
    }
   ],
   "metadata": {}
  }
 ]
}